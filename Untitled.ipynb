{
 "cells": [
  {
   "cell_type": "code",
   "execution_count": 1,
   "id": "eefe3c70-8758-476e-82ea-04c06648455d",
   "metadata": {},
   "outputs": [
    {
     "name": "stdout",
     "output_type": "stream",
     "text": [
      "Requirement already satisfied: numpy in c:\\users\\tristan\\appdata\\local\\programs\\python\\python312\\lib\\site-packages (1.26.2)\n",
      "Requirement already satisfied: pandas in c:\\users\\tristan\\appdata\\local\\programs\\python\\python312\\lib\\site-packages (2.1.3)\n",
      "Collecting matplotlib\n",
      "  Obtaining dependency information for matplotlib from https://files.pythonhosted.org/packages/2e/51/c77a14869b7eb9d6fb440e811b754fc3950d6868c38ace57d0632b674415/matplotlib-3.8.2-cp312-cp312-win_amd64.whl.metadata\n",
      "  Downloading matplotlib-3.8.2-cp312-cp312-win_amd64.whl.metadata (5.9 kB)\n",
      "Collecting scikit-learn\n",
      "  Obtaining dependency information for scikit-learn from https://files.pythonhosted.org/packages/fe/6b/db949ed5ac367987b1f250f070f340b7715d22f0c9c965bdf07de6ca75a3/scikit_learn-1.3.2-cp312-cp312-win_amd64.whl.metadata\n",
      "  Downloading scikit_learn-1.3.2-cp312-cp312-win_amd64.whl.metadata (11 kB)\n",
      "Collecting opencv-python\n",
      "  Obtaining dependency information for opencv-python from https://files.pythonhosted.org/packages/38/d2/3e8c13ffc37ca5ebc6f382b242b44acb43eb489042e1728407ac3904e72f/opencv_python-4.8.1.78-cp37-abi3-win_amd64.whl.metadata\n",
      "  Downloading opencv_python-4.8.1.78-cp37-abi3-win_amd64.whl.metadata (20 kB)\n",
      "Requirement already satisfied: python-dateutil>=2.8.2 in c:\\users\\tristan\\appdata\\local\\programs\\python\\python312\\lib\\site-packages (from pandas) (2.8.2)\n",
      "Requirement already satisfied: pytz>=2020.1 in c:\\users\\tristan\\appdata\\local\\programs\\python\\python312\\lib\\site-packages (from pandas) (2023.3.post1)\n",
      "Requirement already satisfied: tzdata>=2022.1 in c:\\users\\tristan\\appdata\\local\\programs\\python\\python312\\lib\\site-packages (from pandas) (2023.3)\n",
      "Collecting contourpy>=1.0.1 (from matplotlib)\n",
      "  Obtaining dependency information for contourpy>=1.0.1 from https://files.pythonhosted.org/packages/8e/ae/a6353db548bff1a592b85ae6bb80275f0a51dc25a0410d059e5b33183e36/contourpy-1.2.0-cp312-cp312-win_amd64.whl.metadata\n",
      "  Downloading contourpy-1.2.0-cp312-cp312-win_amd64.whl.metadata (5.8 kB)\n",
      "Collecting cycler>=0.10 (from matplotlib)\n",
      "  Obtaining dependency information for cycler>=0.10 from https://files.pythonhosted.org/packages/e7/05/c19819d5e3d95294a6f5947fb9b9629efb316b96de511b418c53d245aae6/cycler-0.12.1-py3-none-any.whl.metadata\n",
      "  Downloading cycler-0.12.1-py3-none-any.whl.metadata (3.8 kB)\n",
      "Collecting fonttools>=4.22.0 (from matplotlib)\n",
      "  Obtaining dependency information for fonttools>=4.22.0 from https://files.pythonhosted.org/packages/ea/1e/a944a93c33e5cf495b0eb0c5e7e81f707c6b4d0dc5e54fb38ad2734da762/fonttools-4.46.0-cp312-cp312-win_amd64.whl.metadata\n",
      "  Downloading fonttools-4.46.0-cp312-cp312-win_amd64.whl.metadata (159 kB)\n",
      "     ---------------------------------------- 0.0/159.4 kB ? eta -:--:--\n",
      "     ---------------------- ---------------- 92.2/159.4 kB 2.6 MB/s eta 0:00:01\n",
      "     -------------------------------------- 159.4/159.4 kB 3.2 MB/s eta 0:00:00\n",
      "Collecting kiwisolver>=1.3.1 (from matplotlib)\n",
      "  Obtaining dependency information for kiwisolver>=1.3.1 from https://files.pythonhosted.org/packages/63/50/2746566bdf4a6a842d117367d05c90cfb87ac04e9e2845aa1fa21f071362/kiwisolver-1.4.5-cp312-cp312-win_amd64.whl.metadata\n",
      "  Downloading kiwisolver-1.4.5-cp312-cp312-win_amd64.whl.metadata (6.5 kB)\n",
      "Requirement already satisfied: packaging>=20.0 in c:\\users\\tristan\\appdata\\local\\programs\\python\\python312\\lib\\site-packages (from matplotlib) (23.2)\n",
      "Collecting pillow>=8 (from matplotlib)\n",
      "  Obtaining dependency information for pillow>=8 from https://files.pythonhosted.org/packages/32/e4/978865107d097dd9cb650331676d8dc29ed9fcd0aaab46486e9d6e5123f0/Pillow-10.1.0-cp312-cp312-win_amd64.whl.metadata\n",
      "  Downloading Pillow-10.1.0-cp312-cp312-win_amd64.whl.metadata (9.6 kB)\n",
      "Collecting pyparsing>=2.3.1 (from matplotlib)\n",
      "  Obtaining dependency information for pyparsing>=2.3.1 from https://files.pythonhosted.org/packages/39/92/8486ede85fcc088f1b3dba4ce92dd29d126fd96b0008ea213167940a2475/pyparsing-3.1.1-py3-none-any.whl.metadata\n",
      "  Downloading pyparsing-3.1.1-py3-none-any.whl.metadata (5.1 kB)\n",
      "Collecting scipy>=1.5.0 (from scikit-learn)\n",
      "  Obtaining dependency information for scipy>=1.5.0 from https://files.pythonhosted.org/packages/c6/a1/357e4cd43af2748e1e0407ae0e9a5ea8aaaa6b702833c81be11670dcbad8/scipy-1.11.4-cp312-cp312-win_amd64.whl.metadata\n",
      "  Downloading scipy-1.11.4-cp312-cp312-win_amd64.whl.metadata (60 kB)\n",
      "     ---------------------------------------- 0.0/60.4 kB ? eta -:--:--\n",
      "     ---------------------------------------- 60.4/60.4 kB ? eta 0:00:00\n",
      "Collecting joblib>=1.1.1 (from scikit-learn)\n",
      "  Obtaining dependency information for joblib>=1.1.1 from https://files.pythonhosted.org/packages/10/40/d551139c85db202f1f384ba8bcf96aca2f329440a844f924c8a0040b6d02/joblib-1.3.2-py3-none-any.whl.metadata\n",
      "  Downloading joblib-1.3.2-py3-none-any.whl.metadata (5.4 kB)\n",
      "Collecting threadpoolctl>=2.0.0 (from scikit-learn)\n",
      "  Obtaining dependency information for threadpoolctl>=2.0.0 from https://files.pythonhosted.org/packages/81/12/fd4dea011af9d69e1cad05c75f3f7202cdcbeac9b712eea58ca779a72865/threadpoolctl-3.2.0-py3-none-any.whl.metadata\n",
      "  Downloading threadpoolctl-3.2.0-py3-none-any.whl.metadata (10.0 kB)\n",
      "Requirement already satisfied: six>=1.5 in c:\\users\\tristan\\appdata\\local\\programs\\python\\python312\\lib\\site-packages (from python-dateutil>=2.8.2->pandas) (1.16.0)\n",
      "Downloading matplotlib-3.8.2-cp312-cp312-win_amd64.whl (7.6 MB)\n",
      "   ---------------------------------------- 0.0/7.6 MB ? eta -:--:--\n",
      "   -- ------------------------------------- 0.5/7.6 MB 16.2 MB/s eta 0:00:01\n",
      "   ----------- ---------------------------- 2.2/7.6 MB 28.0 MB/s eta 0:00:01\n",
      "   ------------------------- -------------- 5.0/7.6 MB 39.6 MB/s eta 0:00:01\n",
      "   ---------------------------------------  7.6/7.6 MB 44.4 MB/s eta 0:00:01\n",
      "   ---------------------------------------- 7.6/7.6 MB 37.6 MB/s eta 0:00:00\n",
      "Downloading scikit_learn-1.3.2-cp312-cp312-win_amd64.whl (9.1 MB)\n",
      "   ---------------------------------------- 0.0/9.1 MB ? eta -:--:--\n",
      "   ---------- ----------------------------- 2.4/9.1 MB 74.6 MB/s eta 0:00:01\n",
      "   ---------------------- ----------------- 5.2/9.1 MB 66.2 MB/s eta 0:00:01\n",
      "   ---------------------------------- ----- 7.9/9.1 MB 63.2 MB/s eta 0:00:01\n",
      "   ---------------------------------------- 9.1/9.1 MB 53.0 MB/s eta 0:00:00\n",
      "Downloading opencv_python-4.8.1.78-cp37-abi3-win_amd64.whl (38.1 MB)\n",
      "   ---------------------------------------- 0.0/38.1 MB ? eta -:--:--\n",
      "   - -------------------------------------- 1.8/38.1 MB 58.5 MB/s eta 0:00:01\n",
      "   ----- ---------------------------------- 4.9/38.1 MB 63.0 MB/s eta 0:00:01\n",
      "   ------- -------------------------------- 7.6/38.1 MB 60.5 MB/s eta 0:00:01\n",
      "   ---------- ----------------------------- 9.5/38.1 MB 61.1 MB/s eta 0:00:01\n",
      "   ----------- ---------------------------- 10.8/38.1 MB 50.4 MB/s eta 0:00:01\n",
      "   ------------ --------------------------- 11.9/38.1 MB 50.4 MB/s eta 0:00:01\n",
      "   ------------ --------------------------- 11.9/38.1 MB 50.4 MB/s eta 0:00:01\n",
      "   ------------ --------------------------- 11.9/38.1 MB 50.4 MB/s eta 0:00:01\n",
      "   ------------- -------------------------- 12.9/38.1 MB 28.5 MB/s eta 0:00:01\n",
      "   -------------- ------------------------- 13.6/38.1 MB 26.2 MB/s eta 0:00:01\n",
      "   --------------- ------------------------ 14.6/38.1 MB 24.2 MB/s eta 0:00:01\n",
      "   ---------------- ----------------------- 15.5/38.1 MB 22.6 MB/s eta 0:00:01\n",
      "   ---------------- ----------------------- 16.1/38.1 MB 20.5 MB/s eta 0:00:02\n",
      "   ----------------- ---------------------- 17.0/38.1 MB 19.2 MB/s eta 0:00:02\n",
      "   ------------------- -------------------- 18.3/38.1 MB 18.7 MB/s eta 0:00:02\n",
      "   -------------------- ------------------- 19.2/38.1 MB 17.7 MB/s eta 0:00:02\n",
      "   --------------------- ------------------ 20.3/38.1 MB 18.2 MB/s eta 0:00:01\n",
      "   ---------------------- ----------------- 21.3/38.1 MB 17.2 MB/s eta 0:00:01\n",
      "   ----------------------- ---------------- 22.0/38.1 MB 16.0 MB/s eta 0:00:02\n",
      "   ------------------------ --------------- 23.2/38.1 MB 19.8 MB/s eta 0:00:01\n",
      "   ------------------------- -------------- 24.0/38.1 MB 20.5 MB/s eta 0:00:01\n",
      "   ------------------------- -------------- 24.5/38.1 MB 19.2 MB/s eta 0:00:01\n",
      "   -------------------------- ------------- 25.0/38.1 MB 18.7 MB/s eta 0:00:01\n",
      "   -------------------------- ------------- 25.5/38.1 MB 17.7 MB/s eta 0:00:01\n",
      "   --------------------------- ------------ 25.8/38.1 MB 16.8 MB/s eta 0:00:01\n",
      "   --------------------------- ------------ 25.9/38.1 MB 16.0 MB/s eta 0:00:01\n",
      "   --------------------------- ------------ 26.1/38.1 MB 14.9 MB/s eta 0:00:01\n",
      "   --------------------------- ------------ 26.2/38.1 MB 14.6 MB/s eta 0:00:01\n",
      "   --------------------------- ------------ 26.2/38.1 MB 13.6 MB/s eta 0:00:01\n",
      "   ---------------------------- ----------- 26.7/38.1 MB 13.1 MB/s eta 0:00:01\n",
      "   ------------------------------ --------- 29.2/38.1 MB 14.6 MB/s eta 0:00:01\n",
      "   --------------------------------- ------ 31.5/38.1 MB 15.6 MB/s eta 0:00:01\n",
      "   ------------------------------------ --- 34.3/38.1 MB 18.7 MB/s eta 0:00:01\n",
      "   -------------------------------------- - 36.9/38.1 MB 54.7 MB/s eta 0:00:01\n",
      "   ---------------------------------------  38.1/38.1 MB 54.4 MB/s eta 0:00:01\n",
      "   ---------------------------------------  38.1/38.1 MB 54.4 MB/s eta 0:00:01\n",
      "   ---------------------------------------- 38.1/38.1 MB 36.4 MB/s eta 0:00:00\n",
      "Downloading contourpy-1.2.0-cp312-cp312-win_amd64.whl (187 kB)\n",
      "   ---------------------------------------- 0.0/187.7 kB ? eta -:--:--\n",
      "   --------------------------------------- 187.7/187.7 kB 11.8 MB/s eta 0:00:00\n",
      "Downloading cycler-0.12.1-py3-none-any.whl (8.3 kB)\n",
      "Downloading fonttools-4.46.0-cp312-cp312-win_amd64.whl (2.2 MB)\n",
      "   ---------------------------------------- 0.0/2.2 MB ? eta -:--:--\n",
      "   ---------------------------------------- 2.2/2.2 MB 45.8 MB/s eta 0:00:00\n",
      "Downloading joblib-1.3.2-py3-none-any.whl (302 kB)\n",
      "   ---------------------------------------- 0.0/302.2 kB ? eta -:--:--\n",
      "   --------------------------------------- 302.2/302.2 kB 19.5 MB/s eta 0:00:00\n",
      "Downloading kiwisolver-1.4.5-cp312-cp312-win_amd64.whl (56 kB)\n",
      "   ---------------------------------------- 0.0/56.0 kB ? eta -:--:--\n",
      "   ---------------------------------------- 56.0/56.0 kB 2.9 MB/s eta 0:00:00\n",
      "Downloading Pillow-10.1.0-cp312-cp312-win_amd64.whl (2.6 MB)\n",
      "   ---------------------------------------- 0.0/2.6 MB ? eta -:--:--\n",
      "   ---------------------------------- ----- 2.3/2.6 MB 48.1 MB/s eta 0:00:01\n",
      "   ---------------------------------------- 2.6/2.6 MB 41.3 MB/s eta 0:00:00\n",
      "Downloading pyparsing-3.1.1-py3-none-any.whl (103 kB)\n",
      "   ---------------------------------------- 0.0/103.1 kB ? eta -:--:--\n",
      "   ---------------------------------------- 103.1/103.1 kB ? eta 0:00:00\n",
      "Downloading scipy-1.11.4-cp312-cp312-win_amd64.whl (43.7 MB)\n",
      "   ---------------------------------------- 0.0/43.7 MB ? eta -:--:--\n",
      "   -- ------------------------------------- 2.3/43.7 MB 50.3 MB/s eta 0:00:01\n",
      "   ---- ----------------------------------- 4.8/43.7 MB 51.3 MB/s eta 0:00:01\n",
      "   ------- -------------------------------- 7.7/43.7 MB 54.6 MB/s eta 0:00:01\n",
      "   --------- ------------------------------ 10.5/43.7 MB 54.7 MB/s eta 0:00:01\n",
      "   ----------- ---------------------------- 12.6/43.7 MB 59.5 MB/s eta 0:00:01\n",
      "   ----------- ---------------------------- 12.6/43.7 MB 59.5 MB/s eta 0:00:01\n",
      "   ----------- ---------------------------- 12.6/43.7 MB 59.5 MB/s eta 0:00:01\n",
      "   ----------- ---------------------------- 12.7/43.7 MB 31.1 MB/s eta 0:00:01\n",
      "   ---------------------- ----------------- 24.1/43.7 MB 222.4 MB/s eta 0:00:01\n",
      "   ------------------------ --------------- 26.9/43.7 MB 131.2 MB/s eta 0:00:01\n",
      "   -------------------------- ------------- 29.5/43.7 MB 93.0 MB/s eta 0:00:01\n",
      "   ----------------------------- ---------- 32.3/43.7 MB 65.6 MB/s eta 0:00:01\n",
      "   ------------------------------- -------- 34.9/43.7 MB 54.4 MB/s eta 0:00:01\n",
      "   ---------------------------------- ----- 37.7/43.7 MB 59.5 MB/s eta 0:00:01\n",
      "   ------------------------------------- -- 40.8/43.7 MB 59.5 MB/s eta 0:00:01\n",
      "   ---------------------------------------  43.7/43.7 MB 59.5 MB/s eta 0:00:01\n",
      "   ---------------------------------------  43.7/43.7 MB 59.5 MB/s eta 0:00:01\n",
      "   ---------------------------------------  43.7/43.7 MB 59.5 MB/s eta 0:00:01\n",
      "   ---------------------------------------- 43.7/43.7 MB 34.4 MB/s eta 0:00:00\n",
      "Downloading threadpoolctl-3.2.0-py3-none-any.whl (15 kB)\n",
      "Installing collected packages: threadpoolctl, scipy, pyparsing, pillow, opencv-python, kiwisolver, joblib, fonttools, cycler, contourpy, scikit-learn, matplotlib\n",
      "Successfully installed contourpy-1.2.0 cycler-0.12.1 fonttools-4.46.0 joblib-1.3.2 kiwisolver-1.4.5 matplotlib-3.8.2 opencv-python-4.8.1.78 pillow-10.1.0 pyparsing-3.1.1 scikit-learn-1.3.2 scipy-1.11.4 threadpoolctl-3.2.0\n"
     ]
    },
    {
     "name": "stderr",
     "output_type": "stream",
     "text": [
      "\n",
      "[notice] A new release of pip is available: 23.2.1 -> 23.3.1\n",
      "[notice] To update, run: python.exe -m pip install --upgrade pip\n"
     ]
    }
   ],
   "source": [
    "!pip install numpy pandas matplotlib scikit-learn opencv-python"
   ]
  },
  {
   "cell_type": "code",
   "execution_count": 2,
   "id": "e52b6b56-f3e8-403d-9bdd-48ba0a3234f3",
   "metadata": {},
   "outputs": [
    {
     "name": "stdout",
     "output_type": "stream",
     "text": [
      "All packages installed successfully!\n"
     ]
    }
   ],
   "source": [
    "import numpy\n",
    "import pandas\n",
    "import matplotlib.pyplot as plt\n",
    "import sklearn\n",
    "import cv2\n",
    "\n",
    "print(\"All packages installed successfully!\")\n"
   ]
  },
  {
   "cell_type": "code",
   "execution_count": 3,
   "id": "d9ad382d-609b-4f4e-a340-c4deb4678612",
   "metadata": {},
   "outputs": [],
   "source": [
    "import os\n",
    "import cv2\n",
    "import numpy as np"
   ]
  },
  {
   "cell_type": "code",
   "execution_count": null,
   "id": "7a883eb4-7b78-46b1-bbc4-a510f52354af",
   "metadata": {},
   "outputs": [],
   "source": []
  },
  {
   "cell_type": "code",
   "execution_count": 18,
   "id": "4eb383aa-3d7c-4508-bf33-35965c896d23",
   "metadata": {},
   "outputs": [],
   "source": [
    "def load_images_from_folder(folder):\n",
    "    images = []\n",
    "    labels = []\n",
    "    print(f\"Reading images from {folder}...\")\n",
    "    for filename in os.listdir(folder):\n",
    "        img_path = os.path.join(folder, filename)\n",
    "        print(f\"Processing file: {filename}\")  # Print each file being processed\n",
    "        img = cv2.imread(img_path)\n",
    "        if img is not None:\n",
    "            img = cv2.resize(img, (64, 64))  # Resize to 64x64 pixels\n",
    "            images.append(img)\n",
    "            labels.append(1 if 'good' in filename else 0)  # Label based on filename\n",
    "        else:\n",
    "            print(f\"Failed to load image: {img_path}\")\n",
    "    print(f\"Total images loaded: {len(images)}\")  # Print the total number of images loaded\n",
    "    return np.array(images), np.array(labels)\n"
   ]
  },
  {
   "cell_type": "code",
   "execution_count": 20,
   "id": "8c83d38e-ff37-49ea-91db-d1d78ea771e6",
   "metadata": {},
   "outputs": [
    {
     "name": "stdout",
     "output_type": "stream",
     "text": [
      "Reading images from C:\\Users\\Tristan\\github\\lemon_ai\\lemon-dataset\\...\n",
      "Processing file: lemon-dataset\n",
      "Failed to load image: C:\\Users\\Tristan\\github\\lemon_ai\\lemon-dataset\\lemon-dataset\n",
      "Total images loaded: 0\n"
     ]
    }
   ],
   "source": [
    "images, labels = load_images_from_folder('C:\\\\Users\\\\Tristan\\\\github\\\\lemon_ai\\\\lemon-dataset\\\\')\n"
   ]
  },
  {
   "cell_type": "code",
   "execution_count": 14,
   "id": "a687743b-f93b-447f-8610-7631753c75ef",
   "metadata": {},
   "outputs": [
    {
     "name": "stdout",
     "output_type": "stream",
     "text": [
      "Number of images loaded: 0\n",
      "Number of labels: 0\n"
     ]
    }
   ],
   "source": [
    "images, labels = load_images_from_folder('./lemon-dataset')\n",
    "\n",
    "print(f\"Number of images loaded: {len(images)}\")\n",
    "print(f\"Number of labels: {len(labels)}\")\n"
   ]
  },
  {
   "cell_type": "code",
   "execution_count": 10,
   "id": "d3e34ace-6431-4204-9da6-61eb9208ed68",
   "metadata": {
    "scrolled": true
   },
   "outputs": [
    {
     "name": "stdout",
     "output_type": "stream",
     "text": [
      "Current Working Directory: C:\\Users\\Tristan\\github\\lemon_ai\n",
      "\n",
      "Contents of Current Directory:\n",
      "['.git', '.ipynb_checkpoints', 'lemon-dataset', 'LICENSE', 'README.md', 'Untitled.ipynb']\n",
      "\n",
      "Contents of 'lemon-dataset' Directory:\n",
      "['lemon-dataset']\n"
     ]
    }
   ],
   "source": [
    "import os\n",
    "\n",
    "# Print the current working directory\n",
    "print(\"Current Working Directory:\", os.getcwd())\n",
    "\n",
    "# List contents of the current working directory\n",
    "print(\"\\nContents of Current Directory:\")\n",
    "print(os.listdir('.'))\n",
    "\n",
    "# List contents of the 'lemon-dataset' directory\n",
    "print(\"\\nContents of 'lemon-dataset' Directory:\")\n",
    "print(os.listdir('lemon-dataset'))  # or './lemon-dataset'\n"
   ]
  },
  {
   "cell_type": "code",
   "execution_count": null,
   "id": "235a301e-c313-49d4-a354-0ecc559424e2",
   "metadata": {},
   "outputs": [],
   "source": []
  },
  {
   "cell_type": "code",
   "execution_count": null,
   "id": "dc6b9f17-849b-447f-a70e-73e87eb012c6",
   "metadata": {},
   "outputs": [],
   "source": []
  }
 ],
 "metadata": {
  "kernelspec": {
   "display_name": "Python 3 (ipykernel)",
   "language": "python",
   "name": "python3"
  },
  "language_info": {
   "codemirror_mode": {
    "name": "ipython",
    "version": 3
   },
   "file_extension": ".py",
   "mimetype": "text/x-python",
   "name": "python",
   "nbconvert_exporter": "python",
   "pygments_lexer": "ipython3",
   "version": "3.12.0"
  }
 },
 "nbformat": 4,
 "nbformat_minor": 5
}
