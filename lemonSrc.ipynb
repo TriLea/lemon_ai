{
 "cells": [
  {
   "cell_type": "code",
   "execution_count": 1,
   "id": "eefe3c70-8758-476e-82ea-04c06648455d",
   "metadata": {
    "scrolled": true
   },
   "outputs": [
    {
     "name": "stdout",
     "output_type": "stream",
     "text": [
      "Requirement already satisfied: numpy in c:\\users\\tristan\\appdata\\local\\programs\\python\\python312\\lib\\site-packages (1.26.2)\n",
      "Requirement already satisfied: pandas in c:\\users\\tristan\\appdata\\local\\programs\\python\\python312\\lib\\site-packages (2.1.3)\n",
      "Requirement already satisfied: matplotlib in c:\\users\\tristan\\appdata\\local\\programs\\python\\python312\\lib\\site-packages (3.8.2)\n",
      "Requirement already satisfied: scikit-learn in c:\\users\\tristan\\appdata\\local\\programs\\python\\python312\\lib\\site-packages (1.3.2)\n",
      "Requirement already satisfied: opencv-python in c:\\users\\tristan\\appdata\\local\\programs\\python\\python312\\lib\\site-packages (4.8.1.78)\n",
      "Requirement already satisfied: python-dateutil>=2.8.2 in c:\\users\\tristan\\appdata\\local\\programs\\python\\python312\\lib\\site-packages (from pandas) (2.8.2)\n",
      "Requirement already satisfied: pytz>=2020.1 in c:\\users\\tristan\\appdata\\local\\programs\\python\\python312\\lib\\site-packages (from pandas) (2023.3.post1)\n",
      "Requirement already satisfied: tzdata>=2022.1 in c:\\users\\tristan\\appdata\\local\\programs\\python\\python312\\lib\\site-packages (from pandas) (2023.3)\n",
      "Requirement already satisfied: contourpy>=1.0.1 in c:\\users\\tristan\\appdata\\local\\programs\\python\\python312\\lib\\site-packages (from matplotlib) (1.2.0)\n",
      "Requirement already satisfied: cycler>=0.10 in c:\\users\\tristan\\appdata\\local\\programs\\python\\python312\\lib\\site-packages (from matplotlib) (0.12.1)\n",
      "Requirement already satisfied: fonttools>=4.22.0 in c:\\users\\tristan\\appdata\\local\\programs\\python\\python312\\lib\\site-packages (from matplotlib) (4.46.0)\n",
      "Requirement already satisfied: kiwisolver>=1.3.1 in c:\\users\\tristan\\appdata\\local\\programs\\python\\python312\\lib\\site-packages (from matplotlib) (1.4.5)\n",
      "Requirement already satisfied: packaging>=20.0 in c:\\users\\tristan\\appdata\\local\\programs\\python\\python312\\lib\\site-packages (from matplotlib) (23.2)\n",
      "Requirement already satisfied: pillow>=8 in c:\\users\\tristan\\appdata\\local\\programs\\python\\python312\\lib\\site-packages (from matplotlib) (10.1.0)\n",
      "Requirement already satisfied: pyparsing>=2.3.1 in c:\\users\\tristan\\appdata\\local\\programs\\python\\python312\\lib\\site-packages (from matplotlib) (3.1.1)\n",
      "Requirement already satisfied: scipy>=1.5.0 in c:\\users\\tristan\\appdata\\local\\programs\\python\\python312\\lib\\site-packages (from scikit-learn) (1.11.4)\n",
      "Requirement already satisfied: joblib>=1.1.1 in c:\\users\\tristan\\appdata\\local\\programs\\python\\python312\\lib\\site-packages (from scikit-learn) (1.3.2)\n",
      "Requirement already satisfied: threadpoolctl>=2.0.0 in c:\\users\\tristan\\appdata\\local\\programs\\python\\python312\\lib\\site-packages (from scikit-learn) (3.2.0)\n",
      "Requirement already satisfied: six>=1.5 in c:\\users\\tristan\\appdata\\local\\programs\\python\\python312\\lib\\site-packages (from python-dateutil>=2.8.2->pandas) (1.16.0)\n"
     ]
    },
    {
     "name": "stderr",
     "output_type": "stream",
     "text": [
      "\n",
      "[notice] A new release of pip is available: 23.2.1 -> 23.3.1\n",
      "[notice] To update, run: python.exe -m pip install --upgrade pip\n"
     ]
    }
   ],
   "source": [
    "!pip install numpy pandas matplotlib scikit-learn opencv-python"
   ]
  },
  {
   "cell_type": "code",
   "execution_count": 2,
   "id": "e52b6b56-f3e8-403d-9bdd-48ba0a3234f3",
   "metadata": {},
   "outputs": [
    {
     "name": "stdout",
     "output_type": "stream",
     "text": [
      "All packages installed successfully!\n"
     ]
    }
   ],
   "source": [
    "import numpy\n",
    "import pandas\n",
    "import matplotlib.pyplot as plt\n",
    "import sklearn\n",
    "import cv2\n",
    "\n",
    "print(\"All packages installed successfully!\")\n"
   ]
  },
  {
   "cell_type": "code",
   "execution_count": 3,
   "id": "4eb383aa-3d7c-4508-bf33-35965c896d23",
   "metadata": {},
   "outputs": [],
   "source": [
    "import os\n",
    "import cv2\n",
    "import numpy as np\n",
    "\n",
    "def load_images_from_folder(folder):\n",
    "    images = []\n",
    "    labels = []\n",
    "    print(f\"Reading images from {folder}...\")\n",
    "    for filename in os.listdir(folder):\n",
    "        if filename.lower().endswith(('.jpg', '.jpeg')):  # Process only JPEG images\n",
    "            img_path = os.path.join(folder, filename)\n",
    "            print(f\"Processing file: {filename}\")  # Print each file being processed\n",
    "            img = cv2.imread(img_path)\n",
    "            if img is not None:\n",
    "                img = cv2.resize(img, (64, 64))  # Resize to 64x64 pixels\n",
    "                images.append(img)\n",
    "                labels.append(1 if 'good' in filename else 0)  # Label based on filename\n",
    "            else:\n",
    "                print(f\"Failed to load image: {img_path}\")\n",
    "        else:\n",
    "            print(f\"Skipping non-image file: {filename}\")\n",
    "    print(f\"Total images loaded: {len(images)}\")  # Print the total number of images loaded\n",
    "    return np.array(images), np.array(labels)\n"
   ]
  },
  {
   "cell_type": "code",
   "execution_count": 5,
   "id": "48090a26-8fa4-477b-b4bb-327d471b2e99",
   "metadata": {},
   "outputs": [
    {
     "name": "stdout",
     "output_type": "stream",
     "text": [
      "Requirement already satisfied: pip in c:\\users\\tristan\\appdata\\local\\programs\\python\\python312\\lib\\site-packages (23.2.1)\n",
      "Collecting pip\n",
      "  Obtaining dependency information for pip from https://files.pythonhosted.org/packages/47/6a/453160888fab7c6a432a6e25f8afe6256d0d9f2cbd25971021da6491d899/pip-23.3.1-py3-none-any.whl.metadata\n",
      "  Downloading pip-23.3.1-py3-none-any.whl.metadata (3.5 kB)\n",
      "Downloading pip-23.3.1-py3-none-any.whl (2.1 MB)\n",
      "   ---------------------------------------- 0.0/2.1 MB ? eta -:--:--\n",
      "   ---------------------------------------- 0.0/2.1 MB ? eta -:--:--\n",
      "   - -------------------------------------- 0.1/2.1 MB 1.1 MB/s eta 0:00:02\n",
      "   --------- ------------------------------ 0.5/2.1 MB 3.9 MB/s eta 0:00:01\n",
      "   ---------------------------------------  2.1/2.1 MB 12.1 MB/s eta 0:00:01\n",
      "   ---------------------------------------- 2.1/2.1 MB 11.2 MB/s eta 0:00:00\n",
      "Installing collected packages: pip\n",
      "  Attempting uninstall: pip\n",
      "    Found existing installation: pip 23.2.1\n",
      "    Uninstalling pip-23.2.1:\n",
      "      Successfully uninstalled pip-23.2.1\n",
      "Successfully installed pip-23.3.1\n"
     ]
    }
   ],
   "source": [
    "!python -m pip install --upgrade pip"
   ]
  },
  {
   "cell_type": "code",
   "execution_count": 6,
   "id": "a054f10f-4d12-476e-915c-bae6dafa3fb1",
   "metadata": {},
   "outputs": [
    {
     "name": "stdout",
     "output_type": "stream",
     "text": [
      "Collecting pycocotools\n",
      "  Downloading pycocotools-2.0.7.tar.gz (24 kB)\n",
      "  Installing build dependencies: started\n",
      "  Installing build dependencies: finished with status 'done'\n",
      "  Getting requirements to build wheel: started\n",
      "  Getting requirements to build wheel: finished with status 'done'\n",
      "  Preparing metadata (pyproject.toml): started\n",
      "  Preparing metadata (pyproject.toml): finished with status 'done'\n",
      "Requirement already satisfied: matplotlib>=2.1.0 in c:\\users\\tristan\\appdata\\local\\programs\\python\\python312\\lib\\site-packages (from pycocotools) (3.8.2)\n",
      "Requirement already satisfied: numpy in c:\\users\\tristan\\appdata\\local\\programs\\python\\python312\\lib\\site-packages (from pycocotools) (1.26.2)\n",
      "Requirement already satisfied: contourpy>=1.0.1 in c:\\users\\tristan\\appdata\\local\\programs\\python\\python312\\lib\\site-packages (from matplotlib>=2.1.0->pycocotools) (1.2.0)\n",
      "Requirement already satisfied: cycler>=0.10 in c:\\users\\tristan\\appdata\\local\\programs\\python\\python312\\lib\\site-packages (from matplotlib>=2.1.0->pycocotools) (0.12.1)\n",
      "Requirement already satisfied: fonttools>=4.22.0 in c:\\users\\tristan\\appdata\\local\\programs\\python\\python312\\lib\\site-packages (from matplotlib>=2.1.0->pycocotools) (4.46.0)\n",
      "Requirement already satisfied: kiwisolver>=1.3.1 in c:\\users\\tristan\\appdata\\local\\programs\\python\\python312\\lib\\site-packages (from matplotlib>=2.1.0->pycocotools) (1.4.5)\n",
      "Requirement already satisfied: packaging>=20.0 in c:\\users\\tristan\\appdata\\local\\programs\\python\\python312\\lib\\site-packages (from matplotlib>=2.1.0->pycocotools) (23.2)\n",
      "Requirement already satisfied: pillow>=8 in c:\\users\\tristan\\appdata\\local\\programs\\python\\python312\\lib\\site-packages (from matplotlib>=2.1.0->pycocotools) (10.1.0)\n",
      "Requirement already satisfied: pyparsing>=2.3.1 in c:\\users\\tristan\\appdata\\local\\programs\\python\\python312\\lib\\site-packages (from matplotlib>=2.1.0->pycocotools) (3.1.1)\n",
      "Requirement already satisfied: python-dateutil>=2.7 in c:\\users\\tristan\\appdata\\local\\programs\\python\\python312\\lib\\site-packages (from matplotlib>=2.1.0->pycocotools) (2.8.2)\n",
      "Requirement already satisfied: six>=1.5 in c:\\users\\tristan\\appdata\\local\\programs\\python\\python312\\lib\\site-packages (from python-dateutil>=2.7->matplotlib>=2.1.0->pycocotools) (1.16.0)\n",
      "Building wheels for collected packages: pycocotools\n",
      "  Building wheel for pycocotools (pyproject.toml): started\n",
      "  Building wheel for pycocotools (pyproject.toml): finished with status 'error'\n",
      "Failed to build pycocotools\n"
     ]
    },
    {
     "name": "stderr",
     "output_type": "stream",
     "text": [
      "  error: subprocess-exited-with-error\n",
      "  \n",
      "  Building wheel for pycocotools (pyproject.toml) did not run successfully.\n",
      "  exit code: 1\n",
      "  \n",
      "  [17 lines of output]\n",
      "  running bdist_wheel\n",
      "  running build\n",
      "  running build_py\n",
      "  creating build\n",
      "  creating build\\lib.win-amd64-cpython-312\n",
      "  creating build\\lib.win-amd64-cpython-312\\pycocotools\n",
      "  copying pycocotools\\coco.py -> build\\lib.win-amd64-cpython-312\\pycocotools\n",
      "  copying pycocotools\\cocoeval.py -> build\\lib.win-amd64-cpython-312\\pycocotools\n",
      "  copying pycocotools\\mask.py -> build\\lib.win-amd64-cpython-312\\pycocotools\n",
      "  copying pycocotools\\__init__.py -> build\\lib.win-amd64-cpython-312\\pycocotools\n",
      "  running build_ext\n",
      "  C:\\Users\\Tristan\\AppData\\Local\\Temp\\pip-build-env-dcmc5bzd\\overlay\\Lib\\site-packages\\Cython\\Compiler\\Main.py:381: FutureWarning: Cython directive 'language_level' not set, using '3str' for now (Py3). This has changed from earlier releases! File: C:\\Users\\Tristan\\AppData\\Local\\Temp\\pip-install-kpgova01\\pycocotools_f2024f56a0d745369e59b3353b59db30\\pycocotools\\_mask.pyx\n",
      "    tree = Parsing.p_module(s, pxd, full_module_name)\n",
      "  Compiling pycocotools/_mask.pyx because it changed.\n",
      "  [1/1] Cythonizing pycocotools/_mask.pyx\n",
      "  building 'pycocotools._mask' extension\n",
      "  error: Microsoft Visual C++ 14.0 or greater is required. Get it with \"Microsoft C++ Build Tools\": https://visualstudio.microsoft.com/visual-cpp-build-tools/\n",
      "  [end of output]\n",
      "  \n",
      "  note: This error originates from a subprocess, and is likely not a problem with pip.\n",
      "  ERROR: Failed building wheel for pycocotools\n",
      "ERROR: Could not build wheels for pycocotools, which is required to install pyproject.toml-based projects\n"
     ]
    }
   ],
   "source": [
    "!pip install pycocotools"
   ]
  },
  {
   "cell_type": "code",
   "execution_count": null,
   "id": "851e9979-217f-4e20-93f9-d1e2f904ab53",
   "metadata": {},
   "outputs": [],
   "source": [
    "from pycocotools.coco import COCO\n",
    "\n",
    "# Path to the COCO annotations file\n",
    "annotations_path = 'path/to/lemon-dataset/annotations/instances_default.json'\n",
    "\n",
    "# Initialize the COCO api for instance annotations\n",
    "coco = COCO(annotations_path)\n",
    "\n",
    "# Get all images in the COCO dataset\n",
    "image_ids = coco.getImgIds()\n",
    "\n",
    "# List to hold our data\n",
    "data = []\n",
    "\n",
    "# Loop through each image\n",
    "for img_id in image_ids:\n",
    "    # Get image info and annotations for this image\n",
    "    img_info = coco.loadImgs(img_id)[0]\n",
    "    ann_ids = coco.getAnnIds(imgIds=img_info['id'], iscrowd=None)\n",
    "    anns = coco.loadAnns(ann_ids)\n",
    "    \n",
    "    # Extract information about whether the fruit is healthy\n",
    "    # You would need to determine the logic for this based on the annotations\n",
    "    # For example, if an annotation category indicates healthiness\n",
    "    is_healthy = None\n",
    "    for ann in anns:\n",
    "        # Here you would write logic to set is_healthy based on the annotation\n",
    "        # For example:\n",
    "        # if ann['category_id'] == healthy_category_id:\n",
    "        #     is_healthy = True\n",
    "        pass\n",
    "    \n",
    "    # Append the information to our data list\n",
    "    data.append({\n",
    "        'file_name': img_info['file_name'],\n",
    "        'is_healthy': is_healthy\n",
    "    })\n",
    "\n",
    "# Convert the list to a DataFrame\n",
    "df = pd.DataFrame(data)\n",
    "\n",
    "# Show the first few entries in the DataFrame\n",
    "print(df.head())\n"
   ]
  },
  {
   "cell_type": "code",
   "execution_count": null,
   "id": "8c83d38e-ff37-49ea-91db-d1d78ea771e6",
   "metadata": {},
   "outputs": [],
   "source": [
    "# Path\n",
    "dataset_path = 'C:/Users/Tristan/github/lemon_ai/lemon-dataset/lemon-dataset/images'\n",
    "\n",
    "# Call the function with the dataset path\n",
    "images, labels = load_images_from_folder(dataset_path)\n",
    "\n",
    "print(f\"Loaded {len(images)} images and {len(labels)} labels.\")\n"
   ]
  },
  {
   "cell_type": "code",
   "execution_count": null,
   "id": "a1325df3-a609-4905-b2cc-01377d8ecfe5",
   "metadata": {},
   "outputs": [],
   "source": [
    "import pandas as pd\n",
    "\n",
    "# Define a function to parse the filename and extract the attributes\n",
    "def parse_filename(filename):\n",
    "    # Split the filename without the extension\n",
    "    parts = filename.replace('.jpg', '').split('_')\n",
    "    \n",
    "    # Example: Convert parts to boolean values or other types as necessary\n",
    "    condition_healthy = parts[1] == 'B'  # Hypothetical: 'B' stands for 'Bad condition' (not healthy)\n",
    "    condition_greening = parts[2] == 'V'  # Hypothetical: 'V' stands for 'Visible greening'\n",
    "    image_quality_blurry = 'blurry' in filename  # Check for keyword in filename\n",
    "    image_quality_cropped = 'cropped' in filename  # Check for keyword in filename\n",
    "    # ... other attributes would be added here with similar logic\n",
    "\n",
    "    # Create a dictionary with the extracted attributes\n",
    "    attributes = {\n",
    "        'identifier': parts[0],\n",
    "        'condition_healthy': not condition_healthy,  # If 'B' means bad, then not 'B' means healthy\n",
    "        'condition_greening': condition_greening,\n",
    "        'image_quality_blurry': image_quality_blurry,\n",
    "        'image_quality_cropped': image_quality_cropped,\n",
    "        # ... other attributes would be included here\n",
    "        'label': parts[4]  # This could be a simple 'good' or 'bad' or more complex based on the filename\n",
    "    }\n",
    "    return attributes\n",
    "\n",
    "# Create an empty list to hold all the parsed attributes\n",
    "parsed_attributes = []\n",
    "\n",
    "# Assuming you have a list of image filenames (if not, you could get this from os.listdir like before)\n",
    "for filename in os.listdir(dataset_path):\n",
    "    if filename.lower().endswith(('.jpg', '.jpeg')):\n",
    "        attributes = parse_filename(filename)\n",
    "        parsed_attributes.append(attributes)\n",
    "\n",
    "# Convert the list of attributes to a Pandas DataFrame\n",
    "df_attributes = pd.DataFrame(parsed_attributes)\n",
    "\n",
    "# Display the first few rows of the DataFrame\n",
    "print(df_attributes.head())\n"
   ]
  }
 ],
 "metadata": {
  "kernelspec": {
   "display_name": "Python 3 (ipykernel)",
   "language": "python",
   "name": "python3"
  },
  "language_info": {
   "codemirror_mode": {
    "name": "ipython",
    "version": 3
   },
   "file_extension": ".py",
   "mimetype": "text/x-python",
   "name": "python",
   "nbconvert_exporter": "python",
   "pygments_lexer": "ipython3",
   "version": "3.12.0"
  }
 },
 "nbformat": 4,
 "nbformat_minor": 5
}
